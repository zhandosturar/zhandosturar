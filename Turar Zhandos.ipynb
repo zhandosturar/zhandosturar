{
 "cells": [
  {
   "cell_type": "code",
   "execution_count": 41,
   "metadata": {},
   "outputs": [],
   "source": [
    "# Problem 1\n",
    "def solution2(B):\n",
    "    a = ''\n",
    "    while B > 0:\n",
    "        a = str(n % 2) + b\n",
    "        B = n // 2\n",
    "        v = int(a)\n",
    "        print(max(len(list(v)) for k, v in groupby(a.strip(\"0\")) if k == \"0\"))"
   ]
  },
  {
   "cell_type": "code",
   "execution_count": 42,
   "metadata": {},
   "outputs": [],
   "source": [
    "# Problem 3\n",
    "def solution1(A):\n",
    "    result =[x for x in A if A.count(x) == 1]\n",
    "    return result"
   ]
  }
 ],
 "metadata": {
  "kernelspec": {
   "display_name": "Python 3",
   "language": "python",
   "name": "python3"
  },
  "language_info": {
   "codemirror_mode": {
    "name": "ipython",
    "version": 3
   },
   "file_extension": ".py",
   "mimetype": "text/x-python",
   "name": "python",
   "nbconvert_exporter": "python",
   "pygments_lexer": "ipython3",
   "version": "3.7.4"
  }
 },
 "nbformat": 4,
 "nbformat_minor": 2
}
